{
 "cells": [
  {
   "cell_type": "markdown",
   "metadata": {},
   "source": [
    "# Introduction:\n",
    "### Discussion of the Problem and Background Information\n",
    "\n",
    "For my capstone project, I would like to evaluate a problem which is particularly relevant to me. For one summer, I interned in New York City for IBM's marketing department. While living in New York, I spent most of my time in Gramercy Park and the Flatiron District which were close to where I was living at the time. The office where I worked itself was inbetween Union Square and Washington Square Park, in Greenwich Village.\n",
    "\n",
    "While I enjoyed the New York City neighborhoods I stayed in quite a lot, I did not decide to move to New York City. Instead, I had asked to work at the offices in Austin, Texas as I am originally from the area. Since starting at the Austin office nearly a year ago, I have seen the office experience significant growth. Likewise, my team/organization at IBM has continued to grow, although predominately in the NYC offices where they are quickly running out of room. \n",
    "\n",
    "At this point, it is hard for visiting employees to find a seat, and even harder to find a quiet meeting room in the NYC office. To maintain it's current levels of growth, either IBM will need to find new office space, or hire more workers in cities like Austin where there is still plenty of room to grow. The question then is, how to convince a New Yorker to move to Austin? \n",
    "\n",
    "One possible solution would be to identify neighborhoods in Austin which are much like New York City. While IBM Marketing employees at the NYC offices certainly live in all different parts of New York (and even other states such as New Jersey), I will base my project off of a few assumptions due to time limitations for research in regards to this course. \n",
    "\n",
    "The first assumption is that these new hires are interns being extended a return offer under the condition they will work in the Austin office. Second, we will assume that they spent most of their time in the three aforementioned neighborhoods (Gramercy Park, the Flatiron District, and Greenwich Village) just as I did when I was an intern, and as the majority of my intern class did. \n",
    "\n",
    "With these assumptions in mind, I will answer the question: Should IBM begin to place more people in their Austin office, which neighborhoods would their new hire class find to be be most similar to the three aforementioned neighborhoods in New York City?\n",
    "\n",
    "\n",
    "### Discussion of the Data and Its Intended Use\n",
    "\n",
    "The data I will be using to solve this problem will be supplied by the FourSquare API (venue data and other information), Wikipedia (list of neighborhoods and GPS coordinates), and the Geocoder Python package.* \n",
    "\n",
    "I will then segment and cluster the neighborhoods of Austin (there are nearly 60) to identify what they have access to and are known for, and then compare this to the neighborhoods of New York City. When considering how to identify how similar two neighborhoods are, this criteria will be based on a few key factors:\n",
    "\n",
    "* Number/Types of restaurants in the area\n",
    "\n",
    "* Number/Types of enterainment venues in the area\n",
    "\n",
    "* Number/Types of other businesses in the area\n",
    "\n",
    "* Availability of public transportation\n",
    "\n",
    "Using these key data points, we will be able to identify the defining characteristics of the NYC neighborhoods I've mentioned. We will then be able to see how the segmented and clustered Austin neighborhoods would compare. With this information at hand, we would then be able to identify just how similar they are to the New York City neighborhoods.n \n",
    "\n",
    "&nbsp;\n",
    "\n",
    "*The website gps-coordinates.net will be used to convert coordinates from Wikipedia to latitude and longitude if the Geocoder Python API were to fail to identify any of the Austin neighborhoods listed by Wikipedia or simply take too long to run."
   ]
  },
  {
   "cell_type": "code",
   "execution_count": null,
   "metadata": {},
   "outputs": [],
   "source": []
  }
 ],
 "metadata": {
  "kernelspec": {
   "display_name": "Python 3",
   "language": "python",
   "name": "python3"
  },
  "language_info": {
   "codemirror_mode": {
    "name": "ipython",
    "version": 3
   },
   "file_extension": ".py",
   "mimetype": "text/x-python",
   "name": "python",
   "nbconvert_exporter": "python",
   "pygments_lexer": "ipython3",
   "version": "3.7.0"
  }
 },
 "nbformat": 4,
 "nbformat_minor": 2
}
